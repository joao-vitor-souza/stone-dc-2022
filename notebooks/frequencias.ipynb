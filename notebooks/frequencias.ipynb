{
 "cells": [
  {
   "cell_type": "code",
   "execution_count": 1,
   "id": "d631c239",
   "metadata": {},
   "outputs": [],
   "source": [
    "import os\n",
    "\n",
    "os.chdir(os.path.join(os.getcwd(), \"..\"))\n",
    "\n",
    "import pandas as pd\n",
    "import numpy as np\n",
    "from utils.etl import engajamentoETL\n",
    "\n",
    "import warnings\n",
    "\n",
    "warnings.filterwarnings(\"ignore\")"
   ]
  },
  {
   "cell_type": "code",
   "execution_count": 2,
   "id": "8b32f122",
   "metadata": {},
   "outputs": [],
   "source": [
    "def pcts(dados_):\n",
    "    \n",
    "    dados = dados_.groupby(\"campanha\")[\"frequencia\"].sum().reset_index()\n",
    "    \n",
    "    dados_pct_cumsum = dados.frequencia.cumsum()/dados.frequencia.sum()\n",
    "    dados_pct_cumsum.name = \"Soma Acumulada\"\n",
    "    \n",
    "    dados_pct_change = dados.frequencia.pct_change()\n",
    "    dados_pct_change.name = \"Diferença Percentual\"\n",
    "    \n",
    "    concat = pd.concat([dados_pct_cumsum, dados_pct_change], axis=1)\n",
    "    \n",
    "    return pd.concat([dados_pct_cumsum, dados_pct_change], axis=1)"
   ]
  },
  {
   "cell_type": "markdown",
   "id": "f70b45c7",
   "metadata": {},
   "source": [
    "### Curva DSP"
   ]
  },
  {
   "cell_type": "code",
   "execution_count": 3,
   "id": "eba3ae62",
   "metadata": {},
   "outputs": [],
   "source": [
    "dadosEngajamento = pd.read_parquet(\n",
    "        \"data/processed/geralClientesComunicadosLimpo.parquet\"\n",
    "    )\n",
    "\n",
    "condicoes = np.ones(dadosEngajamento.shape[0], dtype=bool)\n",
    "\n",
    "dadosDsp, _ = engajamentoETL(dadosEngajamento, condicoes)"
   ]
  },
  {
   "cell_type": "code",
   "execution_count": 4,
   "id": "19dbf1c4",
   "metadata": {},
   "outputs": [],
   "source": [
    "dadosDsp_pcts = pcts(dadosDsp)"
   ]
  },
  {
   "cell_type": "code",
   "execution_count": 5,
   "id": "43e68a1c",
   "metadata": {},
   "outputs": [
    {
     "data": {
      "text/html": [
       "<div>\n",
       "<style scoped>\n",
       "    .dataframe tbody tr th:only-of-type {\n",
       "        vertical-align: middle;\n",
       "    }\n",
       "\n",
       "    .dataframe tbody tr th {\n",
       "        vertical-align: top;\n",
       "    }\n",
       "\n",
       "    .dataframe thead th {\n",
       "        text-align: right;\n",
       "    }\n",
       "</style>\n",
       "<table border=\"1\" class=\"dataframe\">\n",
       "  <thead>\n",
       "    <tr style=\"text-align: right;\">\n",
       "      <th></th>\n",
       "      <th>Soma Acumulada</th>\n",
       "      <th>Diferença Percentual</th>\n",
       "    </tr>\n",
       "  </thead>\n",
       "  <tbody>\n",
       "    <tr>\n",
       "      <th>0</th>\n",
       "      <td>0.501354</td>\n",
       "      <td>NaN</td>\n",
       "    </tr>\n",
       "    <tr>\n",
       "      <th>1</th>\n",
       "      <td>0.690539</td>\n",
       "      <td>-0.622653</td>\n",
       "    </tr>\n",
       "    <tr>\n",
       "      <th>2</th>\n",
       "      <td>0.855227</td>\n",
       "      <td>-0.129488</td>\n",
       "    </tr>\n",
       "    <tr>\n",
       "      <th>3</th>\n",
       "      <td>0.941718</td>\n",
       "      <td>-0.474814</td>\n",
       "    </tr>\n",
       "    <tr>\n",
       "      <th>4</th>\n",
       "      <td>0.975266</td>\n",
       "      <td>-0.612131</td>\n",
       "    </tr>\n",
       "    <tr>\n",
       "      <th>5</th>\n",
       "      <td>1.000000</td>\n",
       "      <td>-0.262700</td>\n",
       "    </tr>\n",
       "  </tbody>\n",
       "</table>\n",
       "</div>"
      ],
      "text/plain": [
       "   Soma Acumulada  Diferença Percentual\n",
       "0        0.501354                   NaN\n",
       "1        0.690539             -0.622653\n",
       "2        0.855227             -0.129488\n",
       "3        0.941718             -0.474814\n",
       "4        0.975266             -0.612131\n",
       "5        1.000000             -0.262700"
      ]
     },
     "execution_count": 5,
     "metadata": {},
     "output_type": "execute_result"
    }
   ],
   "source": [
    "dadosDsp_pcts"
   ]
  },
  {
   "cell_type": "markdown",
   "id": "4523a0da",
   "metadata": {},
   "source": [
    "### Curva DSPP"
   ]
  },
  {
   "cell_type": "code",
   "execution_count": 6,
   "id": "9ce7ac3a",
   "metadata": {},
   "outputs": [],
   "source": [
    "dadosDspp, _ = engajamentoETL(dadosEngajamento, condicoes, False)"
   ]
  },
  {
   "cell_type": "code",
   "execution_count": 7,
   "id": "dd2acc79",
   "metadata": {},
   "outputs": [],
   "source": [
    "dadosDspp_pcts = pcts(dadosDspp)"
   ]
  },
  {
   "cell_type": "code",
   "execution_count": 8,
   "id": "ce5918de",
   "metadata": {},
   "outputs": [
    {
     "data": {
      "text/html": [
       "<div>\n",
       "<style scoped>\n",
       "    .dataframe tbody tr th:only-of-type {\n",
       "        vertical-align: middle;\n",
       "    }\n",
       "\n",
       "    .dataframe tbody tr th {\n",
       "        vertical-align: top;\n",
       "    }\n",
       "\n",
       "    .dataframe thead th {\n",
       "        text-align: right;\n",
       "    }\n",
       "</style>\n",
       "<table border=\"1\" class=\"dataframe\">\n",
       "  <thead>\n",
       "    <tr style=\"text-align: right;\">\n",
       "      <th></th>\n",
       "      <th>Soma Acumulada</th>\n",
       "      <th>Diferença Percentual</th>\n",
       "    </tr>\n",
       "  </thead>\n",
       "  <tbody>\n",
       "    <tr>\n",
       "      <th>0</th>\n",
       "      <td>0.530546</td>\n",
       "      <td>NaN</td>\n",
       "    </tr>\n",
       "    <tr>\n",
       "      <th>1</th>\n",
       "      <td>0.826530</td>\n",
       "      <td>-0.442112</td>\n",
       "    </tr>\n",
       "    <tr>\n",
       "      <th>2</th>\n",
       "      <td>1.000000</td>\n",
       "      <td>-0.413924</td>\n",
       "    </tr>\n",
       "  </tbody>\n",
       "</table>\n",
       "</div>"
      ],
      "text/plain": [
       "   Soma Acumulada  Diferença Percentual\n",
       "0        0.530546                   NaN\n",
       "1        0.826530             -0.442112\n",
       "2        1.000000             -0.413924"
      ]
     },
     "execution_count": 8,
     "metadata": {},
     "output_type": "execute_result"
    }
   ],
   "source": [
    "dadosDspp_pcts"
   ]
  }
 ],
 "metadata": {
  "kernelspec": {
   "display_name": "Python 3 (ipykernel)",
   "language": "python",
   "name": "python3"
  },
  "language_info": {
   "codemirror_mode": {
    "name": "ipython",
    "version": 3
   },
   "file_extension": ".py",
   "mimetype": "text/x-python",
   "name": "python",
   "nbconvert_exporter": "python",
   "pygments_lexer": "ipython3",
   "version": "3.10.2"
  }
 },
 "nbformat": 4,
 "nbformat_minor": 5
}
